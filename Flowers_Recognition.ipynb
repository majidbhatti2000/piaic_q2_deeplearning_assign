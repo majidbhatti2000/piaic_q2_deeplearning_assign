{
 "cells": [
  {
   "cell_type": "markdown",
   "metadata": {
    "id": "BXgJ6uT1NydQ"
   },
   "source": [
    "Assignment: Flowers Recognition <br>\n",
    "Dataset Description:<br>\n",
    "\n",
    "This dataset contains 4242 images of flowers.<br>\n",
    "The data collection is based on the data flicr, google images, yandex images.<br>\n",
    "You can use this datastet to recognize plants from the photo.<br>\n",
    "\n",
    "Attribute Information:<br>\n",
    "The pictures are divided into five classes: chamomile, tulip, rose, sunflower, dandelion.<br>\n",
    "For each class there are about 800 photos. Photos are not high resolution, about 320x240 pixels. <br>\n",
    "<b>Also explore how to resize images in tensorflow and then resize all the images to a same size. </b> <br>\n",
    "This is a Multiclass Classification Problem.<br>\n",
    "\n",
    "\n"
   ]
  },
  {
   "cell_type": "markdown",
   "metadata": {
    "id": "T7vy-ktuOKJH"
   },
   "source": [
    "WORKFLOW : <br>\n",
    "Load Data <br>\n",
    "Split into 60 and 40 ratio.<br>\n",
    "Encode labels.<br>\n",
    "Create Model<br>\n",
    "Compilation Step (Note : Its a Multiclass Classification problem , select loss , metrics according to it)<br>\n",
    "Train the Model.<br>\n",
    "If the model gets overfit tune your model by changing the units , No. of layers , epochs , add dropout layer or add Regularizer according to the need .<br>\n",
    "Prediction should be > 85%<br>\n",
    "Evaluation Step<br>\n",
    "Prediction<br>\n",
    "\n",
    "\n"
   ]
  },
  {
   "cell_type": "markdown",
   "metadata": {
    "id": "ri3Bg5qfPRic"
   },
   "source": [
    "Data : <br>\n",
    "https://drive.google.com/file/d/1-OX6wn5gA-bJpjPNfSyaYQLz-A-AB_uj/view?usp=sharing"
   ]
  },
  {
   "cell_type": "markdown",
   "metadata": {
    "id": "hTtg3WuGTA1o"
   },
   "source": [
    "# Initialise & Imports"
   ]
  },
  {
   "cell_type": "code",
   "execution_count": 1,
   "metadata": {},
   "outputs": [],
   "source": [
    "import numpy as np\n",
    "import matplotlib.pyplot as plt\n",
    "import os\n",
    "import cv2\n",
    "from sklearn.model_selection import train_test_split\n",
    "from sklearn.preprocessing import StandardScaler\n",
    "\n",
    "DATADIR = \"D:\\OneDrive\\Documents\\Studies Information\\PIAIC\\Batch 34_2\\Python Code\\Deep Learning\\Assignments\\\\flowers\"\n",
    "CATEGORIES = [\"daisy\", \"dandelion\", \"rose\", \"sunflower\", \"tulip\"]\n",
    "IMG_SIZE = 180 #256 #150\n"
   ]
  },
  {
   "cell_type": "markdown",
   "metadata": {},
   "source": [
    "# Load Data"
   ]
  },
  {
   "cell_type": "code",
   "execution_count": 2,
   "metadata": {},
   "outputs": [
    {
     "name": "stdout",
     "output_type": "stream",
     "text": [
      "Corupted Images:  D:\\OneDrive\\Documents\\Studies Information\\PIAIC\\Batch 34_2\\Python Code\\Deep Learning\\Assignments\\flowers\\dandelion\\flickr.py\n",
      "Corupted Images:  D:\\OneDrive\\Documents\\Studies Information\\PIAIC\\Batch 34_2\\Python Code\\Deep Learning\\Assignments\\flowers\\dandelion\\flickr.pyc\n",
      "Corupted Images:  D:\\OneDrive\\Documents\\Studies Information\\PIAIC\\Batch 34_2\\Python Code\\Deep Learning\\Assignments\\flowers\\dandelion\\run_me.py\n"
     ]
    }
   ],
   "source": [
    "full_ds = []\n",
    "\n",
    "def create_training_data():\n",
    "    for category in CATEGORIES:\n",
    "        path = os.path.join(DATADIR, category) #making path to folder\n",
    "        label_img = CATEGORIES.index(category)\n",
    "        for img in os.listdir(path):\n",
    "            try:\n",
    "                raw_img = cv2.imread(os.path.join(path,img), cv2.IMREAD_GRAYSCALE) #get full image path & make it GRAY\n",
    "                #raw_img = cv2.imread(os.path.join(path,img), cv2.IMREAD_COLOR) #get full image path & make it COLOR\n",
    "                resized_img = cv2.resize(raw_img, (IMG_SIZE, IMG_SIZE))\n",
    "                full_ds.append([resized_img, label_img])\n",
    "            except Exception as e:\n",
    "                print(\"Corupted Images: \",os.path.join(DATADIR,category,img))\n",
    "                \n",
    "            \n",
    "        \n",
    "create_training_data()     \n"
   ]
  },
  {
   "cell_type": "markdown",
   "metadata": {},
   "source": [
    "# Preprocessing Data"
   ]
  },
  {
   "cell_type": "code",
   "execution_count": 3,
   "metadata": {},
   "outputs": [],
   "source": [
    "np.random.shuffle(full_ds) #Shuffle data"
   ]
  },
  {
   "cell_type": "code",
   "execution_count": 46,
   "metadata": {},
   "outputs": [],
   "source": [
    "#Data preprocessing for feeding into the model¶\n",
    "x = []\n",
    "y = []\n",
    "\n",
    "for features, labels in full_ds:\n",
    "    x.append(features)\n",
    "    y.append(labels)\n",
    "    \n",
    "x = np.array(x).reshape(-1, IMG_SIZE*IMG_SIZE)      # 1 is for Grey image"
   ]
  },
  {
   "cell_type": "code",
   "execution_count": 47,
   "metadata": {},
   "outputs": [],
   "source": [
    "#Split Data (60 train + 40 test)\n",
    "x_train, x_test, y_train, y_test = train_test_split(x, y, test_size=0.40, random_state=42)\n",
    "\n",
    "#Split Data (80 train + 20 Val)\n",
    "x_train, x_val, y_train, y_val = train_test_split(x_train, y_train, test_size=0.20, random_state=42) "
   ]
  },
  {
   "cell_type": "code",
   "execution_count": 48,
   "metadata": {},
   "outputs": [
    {
     "name": "stdout",
     "output_type": "stream",
     "text": [
      "Train Data:\n",
      "Data: 2074 -- Label: 2074\n",
      "Sample Data: [207 203 198 ...  54  53  52] -- Sample Label: 2\n",
      " \n",
      "Val Data:\n",
      "Data: 519 -- Label: 519\n",
      "Val Data: [36 37 36 ... 85 85 83] -- Val Label: 1\n",
      " \n",
      "Test Data:\n",
      "Data: 1730 -- Label: 1730\n",
      "Sample Data: [95 94 91 ... 75 79 83] -- Sample Label: 3\n"
     ]
    }
   ],
   "source": [
    "print('Train Data:')\n",
    "print('Data: {} -- Label: {}'.format(len(x_train),len(y_train)))\n",
    "print('Sample Data: {} -- Sample Label: {}'.format(x_train[0], y_train[0]))\n",
    "\n",
    "print(' ')\n",
    "print('Val Data:')\n",
    "print('Data: {} -- Label: {}'.format(len(x_val),len(y_val)))\n",
    "print('Val Data: {} -- Val Label: {}'.format(x_val[0], y_val[0]))\n",
    "\n",
    "print(' ')\n",
    "print('Test Data:')\n",
    "print('Data: {} -- Label: {}'.format(len(x_test),len(y_test)))\n",
    "print('Sample Data: {} -- Sample Label: {}'.format(x_test[0], y_test[0]))"
   ]
  },
  {
   "cell_type": "code",
   "execution_count": 49,
   "metadata": {},
   "outputs": [],
   "source": [
    "# One-Hot Encoding\n",
    "from tensorflow.keras.utils import to_categorical\n",
    "y_train = to_categorical(y_train)\n",
    "y_val = to_categorical(y_val)\n",
    "y_test = to_categorical(y_test)\n"
   ]
  },
  {
   "cell_type": "code",
   "execution_count": 50,
   "metadata": {},
   "outputs": [
    {
     "name": "stdout",
     "output_type": "stream",
     "text": [
      "Train Data:\n",
      "Data: 2074 -- Label: 2074\n",
      "Sample Data: [207 203 198 ...  54  53  52] -- Sample Label: [0. 0. 1. 0. 0.]\n"
     ]
    }
   ],
   "source": [
    "print('Train Data:')\n",
    "print('Data: {} -- Label: {}'.format(len(x_train),len(y_train)))\n",
    "print('Sample Data: {} -- Sample Label: {}'.format(x_train[0], y_train[0]))"
   ]
  },
  {
   "cell_type": "code",
   "execution_count": 51,
   "metadata": {},
   "outputs": [
    {
     "name": "stdout",
     "output_type": "stream",
     "text": [
      "Train Data:\n",
      "Data: 2074 -- Label: 2074\n",
      "Sample Data: [0.81176471 0.79607843 0.77647059 ... 0.21176471 0.20784314 0.20392157] -- Sample Label: [0. 0. 1. 0. 0.]\n"
     ]
    }
   ],
   "source": [
    "#scaler = StandardScaler()\n",
    "#x_train = scaler.fit_transform(x_train)\n",
    "#x_val = scaler.fit_transform(x_val)\n",
    "#x_test = scaler.fit_transform(x_test)\n",
    "\n",
    "x_train = x_train/255.0\n",
    "x_val = x_val/255.0\n",
    "x_test = x_test/255.0\n",
    "\n",
    "\n",
    "print('Train Data:')\n",
    "print('Data: {} -- Label: {}'.format(len(x_train),len(y_train)))\n",
    "print('Sample Data: {} -- Sample Label: {}'.format(x_train[0], y_train[0]))"
   ]
  },
  {
   "cell_type": "markdown",
   "metadata": {},
   "source": [
    "# Create Model"
   ]
  },
  {
   "cell_type": "code",
   "execution_count": 171,
   "metadata": {},
   "outputs": [],
   "source": [
    "from tensorflow.keras import models\n",
    "from tensorflow.keras import layers\n",
    "from tensorflow.keras import regularizers\n",
    "\n",
    "Network = models.Sequential()\n",
    "Network.add(layers.Dense(32, activation='relu', kernel_regularizer=regularizers.l1(0.001), input_shape=(x_train.shape[1], ))) # for Grey\n",
    "Network.add(layers.Dense(32, activation='relu')) \n",
    "Network.add(layers.Dense(5, activation='softmax'))\n",
    "\n",
    "# Compilation\n",
    "Network.compile(optimizer='adam', loss='categorical_crossentropy', metrics=['accuracy'])\n"
   ]
  },
  {
   "cell_type": "code",
   "execution_count": 172,
   "metadata": {},
   "outputs": [
    {
     "name": "stdout",
     "output_type": "stream",
     "text": [
      "Model: \"sequential_28\"\n",
      "_________________________________________________________________\n",
      "Layer (type)                 Output Shape              Param #   \n",
      "=================================================================\n",
      "dense_84 (Dense)             (None, 32)                1036832   \n",
      "_________________________________________________________________\n",
      "dense_85 (Dense)             (None, 32)                1056      \n",
      "_________________________________________________________________\n",
      "dense_86 (Dense)             (None, 32)                1056      \n",
      "_________________________________________________________________\n",
      "dense_87 (Dense)             (None, 5)                 165       \n",
      "=================================================================\n",
      "Total params: 1,039,109\n",
      "Trainable params: 1,039,109\n",
      "Non-trainable params: 0\n",
      "_________________________________________________________________\n"
     ]
    }
   ],
   "source": [
    "Network.summary()"
   ]
  },
  {
   "cell_type": "code",
   "execution_count": 173,
   "metadata": {},
   "outputs": [],
   "source": [
    "from tensorflow.keras import callbacks\n",
    "earlystopping = callbacks.EarlyStopping(monitor =\"val_loss\", \n",
    "                                        mode =\"min\", patience = 25, \n",
    "                                        restore_best_weights = True, verbose = 1)"
   ]
  },
  {
   "cell_type": "code",
   "execution_count": 174,
   "metadata": {
    "scrolled": true
   },
   "outputs": [
    {
     "name": "stdout",
     "output_type": "stream",
     "text": [
      "Train on 2074 samples, validate on 519 samples\n",
      "Epoch 1/100\n",
      "2074/2074 [==============================] - 3s 2ms/sample - loss: 6.2869 - accuracy: 0.2223 - val_loss: 3.7955 - val_accuracy: 0.2755\n",
      "Epoch 2/100\n",
      "2074/2074 [==============================] - 2s 793us/sample - loss: 3.1976 - accuracy: 0.2676 - val_loss: 2.6376 - val_accuracy: 0.2890\n",
      "Epoch 3/100\n",
      "2074/2074 [==============================] - 2s 770us/sample - loss: 2.5198 - accuracy: 0.2633 - val_loss: 2.7914 - val_accuracy: 0.2929\n",
      "Epoch 4/100\n",
      "2074/2074 [==============================] - 2s 767us/sample - loss: 2.8952 - accuracy: 0.2464 - val_loss: 3.3459 - val_accuracy: 0.2524\n",
      "Epoch 5/100\n",
      "2074/2074 [==============================] - 2s 793us/sample - loss: 2.7088 - accuracy: 0.2271 - val_loss: 2.4449 - val_accuracy: 0.2042\n",
      "Epoch 6/100\n",
      "2074/2074 [==============================] - 2s 770us/sample - loss: 2.0612 - accuracy: 0.2546 - val_loss: 2.0687 - val_accuracy: 0.2929\n",
      "Epoch 7/100\n",
      "2074/2074 [==============================] - 2s 786us/sample - loss: 2.2177 - accuracy: 0.2594 - val_loss: 2.4017 - val_accuracy: 0.1965\n",
      "Epoch 8/100\n",
      "2074/2074 [==============================] - 2s 817us/sample - loss: 2.9588 - accuracy: 0.2613 - val_loss: 2.0252 - val_accuracy: 0.2929\n",
      "Epoch 9/100\n",
      "2074/2074 [==============================] - 2s 786us/sample - loss: 2.0717 - accuracy: 0.2589 - val_loss: 2.2822 - val_accuracy: 0.2177\n",
      "Epoch 10/100\n",
      "2074/2074 [==============================] - 2s 800us/sample - loss: 2.1437 - accuracy: 0.2377 - val_loss: 2.4074 - val_accuracy: 0.2524\n",
      "Epoch 11/100\n",
      "2074/2074 [==============================] - 2s 791us/sample - loss: 2.2529 - accuracy: 0.2449 - val_loss: 2.1051 - val_accuracy: 0.2158\n",
      "Epoch 12/100\n",
      "2074/2074 [==============================] - 2s 805us/sample - loss: 2.1529 - accuracy: 0.2493 - val_loss: 2.3666 - val_accuracy: 0.2177\n",
      "Epoch 13/100\n",
      "2074/2074 [==============================] - 2s 821us/sample - loss: 2.1138 - accuracy: 0.2700 - val_loss: 2.3816 - val_accuracy: 0.2543\n",
      "Epoch 14/100\n",
      "2074/2074 [==============================] - 2s 780us/sample - loss: 2.1547 - accuracy: 0.2642 - val_loss: 1.9891 - val_accuracy: 0.3044\n",
      "Epoch 15/100\n",
      "2074/2074 [==============================] - 2s 813us/sample - loss: 2.0939 - accuracy: 0.2589 - val_loss: 2.1776 - val_accuracy: 0.2447\n",
      "Epoch 16/100\n",
      "2074/2074 [==============================] - 2s 811us/sample - loss: 2.0763 - accuracy: 0.2551 - val_loss: 2.1603 - val_accuracy: 0.1888\n",
      "Epoch 17/100\n",
      "2074/2074 [==============================] - 2s 852us/sample - loss: 2.0773 - accuracy: 0.2642 - val_loss: 2.0356 - val_accuracy: 0.2505\n",
      "Epoch 18/100\n",
      "2074/2074 [==============================] - 2s 859us/sample - loss: 2.0135 - accuracy: 0.2710 - val_loss: 2.0529 - val_accuracy: 0.2563\n",
      "Epoch 19/100\n",
      "2074/2074 [==============================] - 2s 849us/sample - loss: 2.0513 - accuracy: 0.2695 - val_loss: 2.0591 - val_accuracy: 0.3006\n",
      "Epoch 20/100\n",
      "2074/2074 [==============================] - 2s 797us/sample - loss: 2.1817 - accuracy: 0.2792 - val_loss: 2.1342 - val_accuracy: 0.2794\n",
      "Epoch 21/100\n",
      "2074/2074 [==============================] - 2s 800us/sample - loss: 1.9679 - accuracy: 0.2893 - val_loss: 2.2202 - val_accuracy: 0.2466\n",
      "Epoch 22/100\n",
      "2074/2074 [==============================] - 2s 818us/sample - loss: 2.0709 - accuracy: 0.2604 - val_loss: 2.1085 - val_accuracy: 0.1850\n",
      "Epoch 23/100\n",
      "2074/2074 [==============================] - 2s 804us/sample - loss: 1.9725 - accuracy: 0.2710 - val_loss: 1.9057 - val_accuracy: 0.2890\n",
      "Epoch 24/100\n",
      "2074/2074 [==============================] - 2s 793us/sample - loss: 2.0030 - accuracy: 0.2821 - val_loss: 1.9444 - val_accuracy: 0.2697\n",
      "Epoch 25/100\n",
      "2074/2074 [==============================] - 2s 878us/sample - loss: 1.9695 - accuracy: 0.2768 - val_loss: 2.0603 - val_accuracy: 0.2659\n",
      "Epoch 26/100\n",
      "2074/2074 [==============================] - 2s 917us/sample - loss: 2.0802 - accuracy: 0.2671 - val_loss: 2.1028 - val_accuracy: 0.2678\n",
      "Epoch 27/100\n",
      "2074/2074 [==============================] - 2s 799us/sample - loss: 2.1262 - accuracy: 0.2710 - val_loss: 1.8830 - val_accuracy: 0.2736\n",
      "Epoch 28/100\n",
      "2074/2074 [==============================] - 2s 796us/sample - loss: 2.0245 - accuracy: 0.2647 - val_loss: 2.0876 - val_accuracy: 0.2948\n",
      "Epoch 29/100\n",
      "2074/2074 [==============================] - 2s 825us/sample - loss: 2.0919 - accuracy: 0.2676 - val_loss: 2.1047 - val_accuracy: 0.2389\n",
      "Epoch 30/100\n",
      "2074/2074 [==============================] - 2s 801us/sample - loss: 2.0301 - accuracy: 0.2758 - val_loss: 1.8603 - val_accuracy: 0.2736\n",
      "Epoch 31/100\n",
      "2074/2074 [==============================] - 2s 885us/sample - loss: 1.8468 - accuracy: 0.2912 - val_loss: 1.9892 - val_accuracy: 0.2717\n",
      "Epoch 32/100\n",
      "2074/2074 [==============================] - 2s 821us/sample - loss: 2.0160 - accuracy: 0.2719 - val_loss: 2.0711 - val_accuracy: 0.2640\n",
      "Epoch 33/100\n",
      "2074/2074 [==============================] - 2s 826us/sample - loss: 1.9385 - accuracy: 0.2912 - val_loss: 1.8299 - val_accuracy: 0.2813\n",
      "Epoch 34/100\n",
      "2074/2074 [==============================] - 2s 823us/sample - loss: 1.8607 - accuracy: 0.2719 - val_loss: 1.9377 - val_accuracy: 0.2909\n",
      "Epoch 35/100\n",
      "2074/2074 [==============================] - 2s 889us/sample - loss: 1.9840 - accuracy: 0.2772 - val_loss: 2.0489 - val_accuracy: 0.2794\n",
      "Epoch 36/100\n",
      "2074/2074 [==============================] - 2s 812us/sample - loss: 1.9531 - accuracy: 0.2623 - val_loss: 1.8495 - val_accuracy: 0.2948\n",
      "Epoch 37/100\n",
      "2074/2074 [==============================] - 2s 780us/sample - loss: 1.9151 - accuracy: 0.2835 - val_loss: 1.9920 - val_accuracy: 0.2852\n",
      "Epoch 38/100\n",
      "2074/2074 [==============================] - 2s 827us/sample - loss: 2.1032 - accuracy: 0.2768 - val_loss: 2.2107 - val_accuracy: 0.2466\n",
      "Epoch 39/100\n",
      "2074/2074 [==============================] - 2s 822us/sample - loss: 2.0663 - accuracy: 0.2763 - val_loss: 1.9157 - val_accuracy: 0.3141\n",
      "Epoch 40/100\n",
      "2074/2074 [==============================] - 2s 929us/sample - loss: 1.8610 - accuracy: 0.2970 - val_loss: 1.9912 - val_accuracy: 0.2331\n",
      "Epoch 41/100\n",
      "2074/2074 [==============================] - 2s 914us/sample - loss: 2.0234 - accuracy: 0.2695 - val_loss: 2.0318 - val_accuracy: 0.3025\n",
      "Epoch 42/100\n",
      "2074/2074 [==============================] - 2s 834us/sample - loss: 1.9014 - accuracy: 0.2951 - val_loss: 1.9692 - val_accuracy: 0.2659\n",
      "Epoch 43/100\n",
      "2074/2074 [==============================] - 2s 798us/sample - loss: 1.8961 - accuracy: 0.2874 - val_loss: 2.0747 - val_accuracy: 0.2428\n",
      "Epoch 44/100\n",
      "2074/2074 [==============================] - 2s 797us/sample - loss: 1.9197 - accuracy: 0.2782 - val_loss: 1.8275 - val_accuracy: 0.2717\n",
      "Epoch 45/100\n",
      "2074/2074 [==============================] - 2s 784us/sample - loss: 1.8768 - accuracy: 0.2980 - val_loss: 1.8517 - val_accuracy: 0.3006\n",
      "Epoch 46/100\n",
      "2074/2074 [==============================] - 2s 821us/sample - loss: 1.9093 - accuracy: 0.2941 - val_loss: 1.9995 - val_accuracy: 0.2794\n",
      "Epoch 47/100\n",
      "2074/2074 [==============================] - 2s 820us/sample - loss: 1.8667 - accuracy: 0.2951 - val_loss: 1.9714 - val_accuracy: 0.2620\n",
      "Epoch 48/100\n",
      "2074/2074 [==============================] - 2s 826us/sample - loss: 2.0043 - accuracy: 0.2806 - val_loss: 1.8912 - val_accuracy: 0.3083\n",
      "Epoch 49/100\n",
      "2074/2074 [==============================] - 2s 802us/sample - loss: 1.9233 - accuracy: 0.2748 - val_loss: 1.9477 - val_accuracy: 0.2659\n",
      "Epoch 50/100\n",
      "2074/2074 [==============================] - 2s 810us/sample - loss: 1.8629 - accuracy: 0.3009 - val_loss: 1.8815 - val_accuracy: 0.2620\n",
      "Epoch 51/100\n",
      "2074/2074 [==============================] - 2s 895us/sample - loss: 1.9000 - accuracy: 0.2878 - val_loss: 1.8845 - val_accuracy: 0.2832\n",
      "Epoch 52/100\n",
      "2074/2074 [==============================] - 2s 823us/sample - loss: 1.8996 - accuracy: 0.2854 - val_loss: 1.9135 - val_accuracy: 0.2505\n",
      "Epoch 53/100\n",
      "2074/2074 [==============================] - 2s 807us/sample - loss: 1.8604 - accuracy: 0.2922 - val_loss: 1.9602 - val_accuracy: 0.2697\n",
      "Epoch 54/100\n",
      "2074/2074 [==============================] - 2s 879us/sample - loss: 1.8134 - accuracy: 0.2989 - val_loss: 2.0566 - val_accuracy: 0.2274\n",
      "Epoch 55/100\n"
     ]
    },
    {
     "name": "stdout",
     "output_type": "stream",
     "text": [
      "2074/2074 [==============================] - 2s 878us/sample - loss: 1.9084 - accuracy: 0.2878 - val_loss: 1.8601 - val_accuracy: 0.2736\n",
      "Epoch 56/100\n",
      "2074/2074 [==============================] - 2s 788us/sample - loss: 1.8625 - accuracy: 0.3018 - val_loss: 1.8427 - val_accuracy: 0.2852\n",
      "Epoch 57/100\n",
      "2074/2074 [==============================] - 2s 1ms/sample - loss: 1.9869 - accuracy: 0.2710 - val_loss: 1.8728 - val_accuracy: 0.2794\n",
      "Epoch 58/100\n",
      "2074/2074 [==============================] - 2s 751us/sample - loss: 1.8695 - accuracy: 0.2912 - val_loss: 1.8143 - val_accuracy: 0.3044\n",
      "Epoch 59/100\n",
      "2074/2074 [==============================] - 2s 761us/sample - loss: 1.8593 - accuracy: 0.3018 - val_loss: 1.9547 - val_accuracy: 0.2197\n",
      "Epoch 60/100\n",
      "2074/2074 [==============================] - 2s 809us/sample - loss: 1.9326 - accuracy: 0.2768 - val_loss: 1.9894 - val_accuracy: 0.2717\n",
      "Epoch 61/100\n",
      "2074/2074 [==============================] - 2s 878us/sample - loss: 1.9036 - accuracy: 0.2883 - val_loss: 1.8575 - val_accuracy: 0.2543\n",
      "Epoch 62/100\n",
      "2074/2074 [==============================] - 2s 780us/sample - loss: 1.9526 - accuracy: 0.3004 - val_loss: 1.8829 - val_accuracy: 0.2659\n",
      "Epoch 63/100\n",
      "2074/2074 [==============================] - 2s 805us/sample - loss: 1.9975 - accuracy: 0.2878 - val_loss: 2.1023 - val_accuracy: 0.2466\n",
      "Epoch 64/100\n",
      "2074/2074 [==============================] - 2s 798us/sample - loss: 1.9470 - accuracy: 0.2970 - val_loss: 1.8188 - val_accuracy: 0.2948\n",
      "Epoch 65/100\n",
      "2074/2074 [==============================] - 2s 857us/sample - loss: 1.9202 - accuracy: 0.2912 - val_loss: 1.8565 - val_accuracy: 0.2794\n",
      "Epoch 66/100\n",
      "2074/2074 [==============================] - 2s 855us/sample - loss: 1.8467 - accuracy: 0.2927 - val_loss: 1.8244 - val_accuracy: 0.3006\n",
      "Epoch 67/100\n",
      "2074/2074 [==============================] - 2s 807us/sample - loss: 1.9001 - accuracy: 0.2932 - val_loss: 1.9612 - val_accuracy: 0.2697\n",
      "Epoch 68/100\n",
      "2074/2074 [==============================] - 2s 977us/sample - loss: 1.8981 - accuracy: 0.3076 - val_loss: 1.7894 - val_accuracy: 0.2717\n",
      "Epoch 69/100\n",
      "2074/2074 [==============================] - 2s 840us/sample - loss: 1.8819 - accuracy: 0.2975 - val_loss: 1.9613 - val_accuracy: 0.2755\n",
      "Epoch 70/100\n",
      "2074/2074 [==============================] - 2s 840us/sample - loss: 1.9026 - accuracy: 0.2936 - val_loss: 1.8996 - val_accuracy: 0.2967\n",
      "Epoch 71/100\n",
      "2074/2074 [==============================] - 2s 854us/sample - loss: 1.9313 - accuracy: 0.3014 - val_loss: 1.8870 - val_accuracy: 0.2736\n",
      "Epoch 72/100\n",
      "2074/2074 [==============================] - 2s 871us/sample - loss: 1.8569 - accuracy: 0.3052 - val_loss: 1.8248 - val_accuracy: 0.2987\n",
      "Epoch 73/100\n",
      "2074/2074 [==============================] - 2s 846us/sample - loss: 1.8939 - accuracy: 0.3042 - val_loss: 2.0760 - val_accuracy: 0.2293\n",
      "Epoch 74/100\n",
      "2074/2074 [==============================] - 2s 835us/sample - loss: 2.0064 - accuracy: 0.2768 - val_loss: 1.8842 - val_accuracy: 0.2755\n",
      "Epoch 75/100\n",
      "2074/2074 [==============================] - 2s 834us/sample - loss: 1.8959 - accuracy: 0.3033 - val_loss: 1.8407 - val_accuracy: 0.2987\n",
      "Epoch 76/100\n",
      "2074/2074 [==============================] - 2s 844us/sample - loss: 1.9068 - accuracy: 0.2985 - val_loss: 1.9576 - val_accuracy: 0.2659\n",
      "Epoch 77/100\n",
      "2074/2074 [==============================] - 2s 900us/sample - loss: 1.9550 - accuracy: 0.2936 - val_loss: 1.9554 - val_accuracy: 0.3025\n",
      "Epoch 78/100\n",
      "2074/2074 [==============================] - 2s 815us/sample - loss: 1.8296 - accuracy: 0.3187 - val_loss: 1.8333 - val_accuracy: 0.3064\n",
      "Epoch 79/100\n",
      "2074/2074 [==============================] - 2s 927us/sample - loss: 1.8409 - accuracy: 0.2970 - val_loss: 1.8601 - val_accuracy: 0.2794\n",
      "Epoch 80/100\n",
      "2074/2074 [==============================] - 2s 802us/sample - loss: 1.8489 - accuracy: 0.2927 - val_loss: 1.9500 - val_accuracy: 0.2486\n",
      "Epoch 81/100\n",
      "2074/2074 [==============================] - 2s 815us/sample - loss: 1.8494 - accuracy: 0.3100 - val_loss: 1.8786 - val_accuracy: 0.3276\n",
      "Epoch 82/100\n",
      "2074/2074 [==============================] - 2s 792us/sample - loss: 1.9004 - accuracy: 0.3023 - val_loss: 1.9358 - val_accuracy: 0.2408\n",
      "Epoch 83/100\n",
      "2074/2074 [==============================] - 2s 848us/sample - loss: 1.9331 - accuracy: 0.2835 - val_loss: 2.0747 - val_accuracy: 0.2543\n",
      "Epoch 84/100\n",
      "2074/2074 [==============================] - 2s 946us/sample - loss: 1.9513 - accuracy: 0.2941 - val_loss: 1.9653 - val_accuracy: 0.2697\n",
      "Epoch 85/100\n",
      "2074/2074 [==============================] - 2s 863us/sample - loss: 1.8206 - accuracy: 0.3105 - val_loss: 1.8335 - val_accuracy: 0.2832\n",
      "Epoch 86/100\n",
      "2074/2074 [==============================] - 2s 795us/sample - loss: 1.8432 - accuracy: 0.3038 - val_loss: 1.8148 - val_accuracy: 0.3006\n",
      "Epoch 87/100\n",
      "2074/2074 [==============================] - 2s 801us/sample - loss: 1.8633 - accuracy: 0.2999 - val_loss: 1.8583 - val_accuracy: 0.2755\n",
      "Epoch 88/100\n",
      "2074/2074 [==============================] - 2s 804us/sample - loss: 1.8410 - accuracy: 0.2850 - val_loss: 1.8874 - val_accuracy: 0.3198\n",
      "Epoch 89/100\n",
      "2074/2074 [==============================] - 2s 844us/sample - loss: 1.9237 - accuracy: 0.2956 - val_loss: 2.0073 - val_accuracy: 0.2967\n",
      "Epoch 90/100\n",
      "2074/2074 [==============================] - 2s 802us/sample - loss: 1.8190 - accuracy: 0.3139 - val_loss: 1.7642 - val_accuracy: 0.3160\n",
      "Epoch 91/100\n",
      "2074/2074 [==============================] - 2s 775us/sample - loss: 1.8154 - accuracy: 0.3009 - val_loss: 1.8328 - val_accuracy: 0.2717\n",
      "Epoch 92/100\n",
      "2074/2074 [==============================] - 2s 786us/sample - loss: 1.8529 - accuracy: 0.3081 - val_loss: 1.7876 - val_accuracy: 0.2717\n",
      "Epoch 93/100\n",
      "2074/2074 [==============================] - 2s 812us/sample - loss: 1.8306 - accuracy: 0.3004 - val_loss: 1.8614 - val_accuracy: 0.2813\n",
      "Epoch 94/100\n",
      "2074/2074 [==============================] - 2s 788us/sample - loss: 1.8722 - accuracy: 0.2965 - val_loss: 1.8765 - val_accuracy: 0.3083\n",
      "Epoch 95/100\n",
      "2074/2074 [==============================] - 2s 798us/sample - loss: 1.8399 - accuracy: 0.3124 - val_loss: 1.7631 - val_accuracy: 0.3141\n",
      "Epoch 96/100\n",
      "2074/2074 [==============================] - 2s 785us/sample - loss: 1.8083 - accuracy: 0.3067 - val_loss: 1.8240 - val_accuracy: 0.3006\n",
      "Epoch 97/100\n",
      "2074/2074 [==============================] - 2s 784us/sample - loss: 1.8182 - accuracy: 0.2946 - val_loss: 1.8608 - val_accuracy: 0.3025\n",
      "Epoch 98/100\n",
      "2074/2074 [==============================] - 2s 801us/sample - loss: 1.7682 - accuracy: 0.3221 - val_loss: 1.8888 - val_accuracy: 0.2755\n",
      "Epoch 99/100\n",
      "2074/2074 [==============================] - 2s 820us/sample - loss: 1.8410 - accuracy: 0.2999 - val_loss: 1.8503 - val_accuracy: 0.2659\n",
      "Epoch 100/100\n",
      "2074/2074 [==============================] - 2s 820us/sample - loss: 1.8028 - accuracy: 0.3129 - val_loss: 1.8466 - val_accuracy: 0.2890\n"
     ]
    }
   ],
   "source": [
    "#Train Model\n",
    "#history = Network.fit(train_data, train_label, epochs=100, batch_size=50, validation_data=(val_data, val_label), callbacks =[earlystopping])\n",
    "history = Network.fit(x_train, y_train, epochs=100, batch_size=32, validation_data=(x_val, y_val), callbacks =[earlystopping])"
   ]
  },
  {
   "cell_type": "markdown",
   "metadata": {},
   "source": [
    "# Plotting the training and validation loss"
   ]
  },
  {
   "cell_type": "code",
   "execution_count": 175,
   "metadata": {},
   "outputs": [
    {
     "data": {
      "image/png": "[encoded data removed]",
      "text/plain": [
       "<Figure size 432x288 with 1 Axes>"
      ]
     },
     "metadata": {
      "needs_background": "light"
     },
     "output_type": "display_data"
    }
   ],
   "source": [
    "import matplotlib.pyplot as plt\n",
    "\n",
    "loss = history.history['loss']\n",
    "val_loss = history.history['val_loss']\n",
    "\n",
    "epochs = range(1, len(loss) + 1)\n",
    "\n",
    "plt.plot(epochs, loss, 'bo', label='Training loss')\n",
    "plt.plot(epochs, val_loss, 'b', label='Validation loss')\n",
    "plt.title('Training and validation loss')\n",
    "plt.xlabel('Epochs')\n",
    "plt.ylabel('Loss')\n",
    "plt.legend()\n",
    "plt.show()"
   ]
  },
  {
   "cell_type": "markdown",
   "metadata": {},
   "source": [
    "### Plotting the training and validation accuracy\n"
   ]
  },
  {
   "cell_type": "code",
   "execution_count": 176,
   "metadata": {},
   "outputs": [
    {
     "data": {
      "image/png": "[encoded data removed]",
      "text/plain": [
       "<Figure size 432x288 with 1 Axes>"
      ]
     },
     "metadata": {
      "needs_background": "light"
     },
     "output_type": "display_data"
    }
   ],
   "source": [
    "plt.clf()\n",
    "acc = history.history['accuracy']\n",
    "val_acc = history.history['val_accuracy']\n",
    "\n",
    "plt.plot(epochs, acc, 'bo', label='Training acc')\n",
    "plt.plot(epochs, val_acc, 'b', label='Validation acc')\n",
    "plt.title('Training and validation accuracy')\n",
    "plt.xlabel('Epochs')\n",
    "plt.ylabel('Loss')\n",
    "plt.legend()\n",
    "plt.show()"
   ]
  },
  {
   "cell_type": "markdown",
   "metadata": {},
   "source": [
    "# Evaluate Model"
   ]
  },
  {
   "cell_type": "code",
   "execution_count": 177,
   "metadata": {},
   "outputs": [
    {
     "name": "stdout",
     "output_type": "stream",
     "text": [
      "2074/2074 [==============================] - 1s 394us/sample - loss: 1.8192 - accuracy: 0.3100\n",
      "Accuracy:  31.002894043922424 \n",
      "Train Loss Value: 1.8192249676760506\n"
     ]
    }
   ],
   "source": [
    "#Check Model performance of Train Data\n",
    "train_loss,train_acc=Network.evaluate(x_train, y_train)\n",
    "print(\"Accuracy: \",train_acc*100,\"\\nTrain Loss Value:\",train_loss)\n",
    "#test_labels[15]"
   ]
  },
  {
   "cell_type": "code",
   "execution_count": 178,
   "metadata": {},
   "outputs": [
    {
     "name": "stdout",
     "output_type": "stream",
     "text": [
      "1730/1730 [==============================] - 1s 339us/sample - loss: 1.8671 - accuracy: 0.2827\n",
      "Accuracy:  28.265896439552307 \n",
      "Test Loss Value: 1.8671064762710836\n"
     ]
    }
   ],
   "source": [
    "#Check Model performance of Test Data\n",
    "test_loss,test_acc=Network.evaluate(x_test, y_test)\n",
    "print(\"Accuracy: \",test_acc*100,\"\\nTest Loss Value:\",test_loss)"
   ]
  },
  {
   "cell_type": "markdown",
   "metadata": {},
   "source": [
    "# Prediction"
   ]
  },
  {
   "cell_type": "code",
   "execution_count": 179,
   "metadata": {
    "scrolled": true
   },
   "outputs": [
    {
     "name": "stdout",
     "output_type": "stream",
     "text": [
      "Predicted Value: tulip -- Original Value: sunflower\n",
      "Predicted Value: dandelion -- Original Value: daisy\n",
      "Predicted Value: dandelion -- Original Value: rose\n",
      "Predicted Value: dandelion -- Original Value: daisy\n",
      "Predicted Value: dandelion -- Original Value: tulip\n",
      "Predicted Value: tulip -- Original Value: tulip\n",
      "Predicted Value: dandelion -- Original Value: tulip\n",
      "Predicted Value: dandelion -- Original Value: daisy\n",
      "Predicted Value: tulip -- Original Value: tulip\n",
      "Predicted Value: dandelion -- Original Value: daisy\n"
     ]
    }
   ],
   "source": [
    "predictions = Network.predict_classes(x_test)\n",
    "# show the inputs and predicted outputs\n",
    "for i in range(10):\n",
    "    print(\"Predicted Value: {} -- Original Value: {}\"\n",
    "          .format(CATEGORIES[predictions[i]], CATEGORIES[np.argmax(y_test[i])]))"
   ]
  },
  {
   "cell_type": "code",
   "execution_count": null,
   "metadata": {},
   "outputs": [],
   "source": []
  },
  {
   "cell_type": "code",
   "execution_count": null,
   "metadata": {},
   "outputs": [],
   "source": []
  }
 ],
 "metadata": {
  "colab": {
   "name": "Flowers Recognition.ipynb",
   "provenance": []
  },
  "kernelspec": {
   "display_name": "Python 3",
   "language": "python",
   "name": "python3"
  },
  "language_info": {
   "codemirror_mode": {
    "name": "ipython",
    "version": 3
   },
   "file_extension": ".py",
   "mimetype": "text/x-python",
   "name": "python",
   "nbconvert_exporter": "python",
   "pygments_lexer": "ipython3",
   "version": "3.7.7"
  }
 },
 "nbformat": 4,
 "nbformat_minor": 1
}
